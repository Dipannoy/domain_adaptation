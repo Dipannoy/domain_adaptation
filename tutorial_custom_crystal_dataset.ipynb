{
 "cells": [
  {
   "cell_type": "markdown",
   "id": "9869d1b7",
   "metadata": {},
   "source": [
    "# Crystal Dataset"
   ]
  },
  {
   "cell_type": "code",
   "execution_count": 1,
   "id": "3f012f9b",
   "metadata": {},
   "outputs": [],
   "source": [
    "import pymatgen\n",
    "import pymatgen.core.structure\n",
    "import numpy as np\n",
    "import os"
   ]
  },
  {
   "cell_type": "markdown",
   "id": "5af55431",
   "metadata": {},
   "source": [
    "Prepare some test data."
   ]
  },
  {
   "cell_type": "code",
   "execution_count": 2,
   "id": "e52f2cb3",
   "metadata": {},
   "outputs": [],
   "source": [
    "test_data = [\n",
    "    pymatgen.core.Structure(lattice=np.array([[4.34157255, 0., 2.50660808], [1.44719085, 4.09327385, 2.50660808], [0., 0., 5.01321616]]), species=[\"Te\", \"Ba\"], coords=np.array([[0.5, 0.5, 0.5], [0. , 0. , 0. ]])),\n",
    "    pymatgen.core.Structure(lattice=np.array([[2.95117784, 0., 1.70386332], [0.98372595, 2.78239715, 1.70386332], [0., 0., 3.40772664]]), species=[\"B\", \"As\"], coords=np.array([[0.25, 0.25, 0.25], [0. , 0. , 0. ]])),\n",
    "    pymatgen.core.Structure(lattice=np.array([[4.3015, 0., 0.],[-2.15075, 3.725208, 0.], [0., 0., 5.2703]]), species=[\"Ba\", \"Ga\", \"Si\", \"H\"], coords=np.array([[0., 0., 0.],[0.6666, 0.3333, 0.5423], [0.3334, 0.6667, 0.4555], [0.6666, 0.3333, 0.8759]])),\n",
    "]\n",
    "os.makedirs(\"ExampleCrystal\", exist_ok=True)\n",
    "os.makedirs(\"ExampleCrystal/CifFiles\", exist_ok=True)\n",
    "for i, x in enumerate(test_data):\n",
    "    x.to(filename=\"ExampleCrystal/CifFiles/file_%s.cif\" % i, fmt=\"cif\")\n",
    "csv_data = \"\".join([\n",
    "    \"file_name,index,label\\n\",  # Need header!\n",
    "    \"file_0.cif, 0, 98.58577122703691\\n\",\n",
    "    \"file_1.cif, 1, 701.5857233477558\\n\",\n",
    "    \"file_2.cif, 2, 1138.5856886491724\"\n",
    "])\n",
    "with open(\"ExampleCrystal/data.csv\", \"w\") as f:\n",
    "    f.write(csv_data)"
   ]
  },
  {
   "cell_type": "markdown",
   "id": "5d972eb6",
   "metadata": {},
   "source": [
    "### 0. Crystal dataset\n",
    "\n",
    "Data is organized like:\n",
    "\n",
    " ```bash\n",
    " ├── data_directory\n",
    "    ├── file_directory\n",
    "    │   ├── *.cif\n",
    "    │   ├── *.cif\n",
    "    │   └── ...\n",
    "    ├── file_name.csv\n",
    "    └── file_name.pymatgen.json\n",
    " ```"
   ]
  },
  {
   "cell_type": "code",
   "execution_count": 3,
   "id": "3ae7d2c3",
   "metadata": {},
   "outputs": [
    {
     "name": "stderr",
     "output_type": "stream",
     "text": [
      "2023-04-09 20:29:52.647950: I tensorflow/core/platform/cpu_feature_guard.cc:193] This TensorFlow binary is optimized with oneAPI Deep Neural Network Library (oneDNN) to use the following CPU instructions in performance-critical operations:  AVX2 FMA\n",
      "To enable them in other operations, rebuild TensorFlow with the appropriate compiler flags.\n",
      "2023-04-09 20:29:53.034481: W tensorflow/compiler/xla/stream_executor/platform/default/dso_loader.cc:64] Could not load dynamic library 'libnvinfer.so.7'; dlerror: libnvinfer.so.7: cannot open shared object file: No such file or directory\n",
      "2023-04-09 20:29:53.034514: W tensorflow/compiler/xla/stream_executor/platform/default/dso_loader.cc:64] Could not load dynamic library 'libnvinfer_plugin.so.7'; dlerror: libnvinfer_plugin.so.7: cannot open shared object file: No such file or directory\n",
      "2023-04-09 20:29:53.034517: W tensorflow/compiler/tf2tensorrt/utils/py_utils.cc:38] TF-TRT Warning: Cannot dlopen some TensorRT libraries. If you would like to use Nvidia GPU with TensorRT, please make sure the missing libraries mentioned above are installed properly.\n",
      "WARNING:kgcnn.crystal.base:Modules in `kgcnn.crystal` are still in development and not fully tested.\n"
     ]
    }
   ],
   "source": [
    "from kgcnn.data.crystal import CrystalDataset"
   ]
  },
  {
   "cell_type": "code",
   "execution_count": 4,
   "id": "1fe66910",
   "metadata": {},
   "outputs": [],
   "source": [
    "dataset = CrystalDataset(\n",
    "    data_directory=\"ExampleCrystal/\", \n",
    "    dataset_name=\"ExampleCrystal\", \n",
    "    file_name=\"data.csv\", \n",
    "    file_directory=\"CifFiles\"\n",
    ")"
   ]
  },
  {
   "cell_type": "markdown",
   "id": "42832256",
   "metadata": {},
   "source": [
    "### 1. Generate a json-serialized list of structures via `prepare_data`"
   ]
  },
  {
   "cell_type": "code",
   "execution_count": 5,
   "id": "3632bba5",
   "metadata": {
    "scrolled": true
   },
   "outputs": [
    {
     "name": "stderr",
     "output_type": "stream",
     "text": [
      "INFO:kgcnn.data.ExampleCrystal:Searching for structure files in 'ExampleCrystal/CifFiles'\n",
      "INFO:kgcnn.data.ExampleCrystal:Read 3 single files.\n",
      "INFO:kgcnn.data.ExampleCrystal:... Read .cif file 0 from 3\n",
      "/home/chris/anaconda3/envs/kgcnn/lib/python3.9/site-packages/pymatgen/io/cif.py:1167: UserWarning: Issues encountered while parsing CIF: Some fractional coordinates rounded to ideal values to avoid issues with finite precision.\n",
      "  warnings.warn(\"Issues encountered while parsing CIF: \" + \"\\n\".join(self.warnings))\n",
      "INFO:kgcnn.data.ExampleCrystal:Exporting as dict for pymatgen ...\n",
      "INFO:kgcnn.data.ExampleCrystal:Saving structures as .json ...\n"
     ]
    },
    {
     "name": "stdout",
     "output_type": "stream",
     "text": [
      "--------------------------------------------------------------\n"
     ]
    },
    {
     "data": {
      "text/plain": [
       "<CrystalDataset []>"
      ]
     },
     "execution_count": 5,
     "metadata": {},
     "output_type": "execute_result"
    }
   ],
   "source": [
    "dataset.prepare_data(file_column_name=\"file_name\", overwrite=True)"
   ]
  },
  {
   "cell_type": "markdown",
   "id": "375c1c44",
   "metadata": {},
   "source": [
    "### 2. Read in memory with `read_in_memory`."
   ]
  },
  {
   "cell_type": "code",
   "execution_count": 6,
   "id": "f263c524",
   "metadata": {
    "scrolled": true
   },
   "outputs": [
    {
     "name": "stderr",
     "output_type": "stream",
     "text": [
      "INFO:kgcnn.data.ExampleCrystal:Making node features from structure...\n",
      "INFO:kgcnn.data.ExampleCrystal:Reading structures from .json ...\n",
      "INFO:kgcnn.data.ExampleCrystal: ... read structures 0 from 3\n"
     ]
    },
    {
     "name": "stdout",
     "output_type": "stream",
     "text": [
      "{'graph_labels': array(98.58577123), 'node_coordinates': array([[0.00000000e+00, 0.00000000e+00, 0.00000000e+00],\n",
      "       [1.31245681e-09, 6.13991078e+00, 2.27324404e-09]]), 'node_frac_coordinates': array([[0. , 0. , 0. ],\n",
      "       [0.5, 0.5, 0.5]]), 'graph_lattice': array([[ 1.44719085e+00,  4.09327385e+00,  2.50660808e+00],\n",
      "       [ 1.44719085e+00,  4.09327385e+00, -2.50660808e+00],\n",
      "       [-2.89438170e+00,  4.09327385e+00,  1.51549528e-09]]), 'abc': array([5.01321616, 5.01321616, 5.01321616]), 'charge': array([0.]), 'volume': array([89.0910946]), 'node_number': array([56, 52])}\n"
     ]
    }
   ],
   "source": [
    "dataset.read_in_memory(label_column_name=\"label\")\n",
    "print(dataset[0])"
   ]
  },
  {
   "cell_type": "markdown",
   "id": "3bb2d359",
   "metadata": {},
   "source": [
    "Read pymatgen only via `get_structures_from_json_file`. The structures are not assigned to the dataset but returned by the function."
   ]
  },
  {
   "cell_type": "code",
   "execution_count": 7,
   "id": "d8a29936",
   "metadata": {},
   "outputs": [
    {
     "name": "stderr",
     "output_type": "stream",
     "text": [
      "INFO:kgcnn.data.ExampleCrystal:Reading structures from .json ...\n"
     ]
    },
    {
     "data": {
      "text/plain": [
       "[Structure Summary\n",
       " Lattice\n",
       "     abc : 5.01321616 5.013216158484504 5.0132161584845045\n",
       "  angles : 60.00000002 60.00000001 60.00000001\n",
       "  volume : 89.09109460256703\n",
       "       A : 1.4471908506158624 4.093273852854227 2.5066080815154956\n",
       "       B : 1.4471908506158624 4.093273852854227 -2.506608078484504\n",
       "       C : -2.8943816986068107 4.093273852854227 1.5154952848206449e-09\n",
       "     pbc : True True True\n",
       " PeriodicSite: Ba (0.0000, 0.0000, 0.0000) [0.0000, 0.0000, 0.0000]\n",
       " PeriodicSite: Te (0.0000, 6.1399, 0.0000) [0.5000, 0.5000, 0.5000],\n",
       " Structure Summary\n",
       " Lattice\n",
       "     abc : 3.40772664 3.4077266405150777 3.407726637424612\n",
       "  angles : 60.000000029999995 60.00000002499999 59.999999995\n",
       "  volume : 27.98203208499981\n",
       "       A : 0.9837259499337652 2.7823971493851167 1.7038633194849222\n",
       "       B : 0.9837259499337652 2.7823971493851167 -1.7038633205150777\n",
       "       C : -1.9674518897566036 2.7823971493851167 -0.0\n",
       "     pbc : True True True\n",
       " PeriodicSite: B (0.0000, 6.2604, -0.0000) [0.7500, 0.7500, 0.7500]\n",
       " PeriodicSite: As (0.0000, 0.0000, 0.0000) [0.0000, 0.0000, 0.0000],\n",
       " Structure Summary\n",
       " Lattice\n",
       "     abc : 4.301499761018623 4.30149976 5.2703\n",
       "  angles : 90.00000000000001 90.0 119.99999631649949\n",
       "  volume : 84.45119340290724\n",
       "       A : -2.150750001018624 -3.725207997838733 -5.267818059574724e-16\n",
       "       B : -2.150749998981376 3.725207997838733 2.633908956308554e-16\n",
       "       C : 0.0 0.0 -5.2703\n",
       "     pbc : True True True\n",
       " PeriodicSite: Ba (0.0000, 0.0000, 0.0000) [0.0000, 0.0000, 0.0000]\n",
       " PeriodicSite: Ga (-2.1507, 1.2417, -2.4122) [0.3333, 0.6667, 0.4577]\n",
       " PeriodicSite: Si (-2.1505, -1.2417, -2.8697) [0.6666, 0.3333, 0.5445]\n",
       " PeriodicSite: H (-2.1507, 1.2417, -0.6540) [0.3333, 0.6667, 0.1241]]"
      ]
     },
     "execution_count": 7,
     "metadata": {},
     "output_type": "execute_result"
    }
   ],
   "source": [
    "dataset.get_structures_from_json_file()"
   ]
  },
  {
   "cell_type": "markdown",
   "id": "dccc3129",
   "metadata": {},
   "source": [
    "Or save them directly to json without collecting individual files."
   ]
  },
  {
   "cell_type": "code",
   "execution_count": 8,
   "id": "7cd221bf",
   "metadata": {},
   "outputs": [
    {
     "name": "stderr",
     "output_type": "stream",
     "text": [
      "INFO:kgcnn.data.ExampleCrystal:Exporting as dict for pymatgen ...\n",
      "INFO:kgcnn.data.ExampleCrystal:Saving structures as .json ...\n"
     ]
    }
   ],
   "source": [
    "dataset.save_structures_to_json_file(test_data)"
   ]
  },
  {
   "cell_type": "markdown",
   "id": "2841c4ad",
   "metadata": {},
   "source": [
    "### 3. Generate graph"
   ]
  },
  {
   "cell_type": "code",
   "execution_count": 9,
   "id": "ccfceb8a",
   "metadata": {},
   "outputs": [
    {
     "data": {
      "text/plain": [
       "<CrystalDataset [{'graph_labels': array(98.58577123), 'node_coordinates': array([[0.00000000e+00, 0.00000000e+00, 0.00000000e+00],\n",
       "       [1.31245681e-09, 6.13991078e+00, 2.27324404e-09]]), 'node_frac_coordinates': array([[0. , 0. , 0. ],\n",
       "       [0.5, 0.5, 0.5]]), 'graph_lattice': array([[ 1.44719085e+00,  4.09327385e+00,  2.50660808e+00],\n",
       "       [ 1.44719085e+00,  4.09327385e+00, -2.50660808e+00],\n",
       "       [-2.89438170e+00,  4.09327385e+00,  1.51549528e-09]]), 'abc': array([5.01321616, 5.01321616, 5.01321616]), 'charge': array([0.]), 'volume': array([89.0910946]), 'node_number': array([56, 52]), 'range_indices': array([[0, 1],\n",
       "       [0, 1],\n",
       "       [0, 1],\n",
       "       [0, 1],\n",
       "       [0, 1],\n",
       "       [0, 1],\n",
       "       [1, 0],\n",
       "       [1, 0],\n",
       "       [1, 0],\n",
       "       [1, 0],\n",
       "       [1, 0],\n",
       "       [1, 0]]), 'range_image': array([[-1,  0,  0],\n",
       "       [ 0, -1, -1],\n",
       "       [ 0,  0, -1],\n",
       "       [-1,  0, -1],\n",
       "       [-1, -1,  0],\n",
       "       [ 0, -1,  0],\n",
       "       [ 1,  0,  0],\n",
       "       [ 0,  1,  1],\n",
       "       [ 0,  0,  1],\n",
       "       [ 1,  0,  1],\n",
       "       [ 1,  1,  0],\n",
       "       [ 0,  1,  0]]), 'range_attributes': array([[3.54487914],\n",
       "       [3.54487914],\n",
       "       [3.54487914],\n",
       "       [3.54487914],\n",
       "       [3.54487914],\n",
       "       [3.54487914],\n",
       "       [3.54487914],\n",
       "       [3.54487914],\n",
       "       [3.54487914],\n",
       "       [3.54487914],\n",
       "       [3.54487914],\n",
       "       [3.54487914]])} ...]>"
      ]
     },
     "execution_count": 9,
     "metadata": {},
     "output_type": "execute_result"
    }
   ],
   "source": [
    "dataset.map_list(method=\"set_range_periodic\", max_distance=5.0, max_neighbours=20)"
   ]
  },
  {
   "cell_type": "code",
   "execution_count": 10,
   "id": "415ce564",
   "metadata": {},
   "outputs": [
    {
     "data": {
      "text/plain": [
       "{'graph_labels': array(98.58577123),\n",
       " 'node_coordinates': array([[0.00000000e+00, 0.00000000e+00, 0.00000000e+00],\n",
       "        [1.31245681e-09, 6.13991078e+00, 2.27324404e-09]]),\n",
       " 'node_frac_coordinates': array([[0. , 0. , 0. ],\n",
       "        [0.5, 0.5, 0.5]]),\n",
       " 'graph_lattice': array([[ 1.44719085e+00,  4.09327385e+00,  2.50660808e+00],\n",
       "        [ 1.44719085e+00,  4.09327385e+00, -2.50660808e+00],\n",
       "        [-2.89438170e+00,  4.09327385e+00,  1.51549528e-09]]),\n",
       " 'abc': array([5.01321616, 5.01321616, 5.01321616]),\n",
       " 'charge': array([0.]),\n",
       " 'volume': array([89.0910946]),\n",
       " 'node_number': array([56, 52]),\n",
       " 'range_indices': array([[0, 1],\n",
       "        [0, 1],\n",
       "        [0, 1],\n",
       "        [0, 1],\n",
       "        [0, 1],\n",
       "        [0, 1],\n",
       "        [1, 0],\n",
       "        [1, 0],\n",
       "        [1, 0],\n",
       "        [1, 0],\n",
       "        [1, 0],\n",
       "        [1, 0]]),\n",
       " 'range_image': array([[-1,  0,  0],\n",
       "        [ 0, -1, -1],\n",
       "        [ 0,  0, -1],\n",
       "        [-1,  0, -1],\n",
       "        [-1, -1,  0],\n",
       "        [ 0, -1,  0],\n",
       "        [ 1,  0,  0],\n",
       "        [ 0,  1,  1],\n",
       "        [ 0,  0,  1],\n",
       "        [ 1,  0,  1],\n",
       "        [ 1,  1,  0],\n",
       "        [ 0,  1,  0]]),\n",
       " 'range_attributes': array([[3.54487914],\n",
       "        [3.54487914],\n",
       "        [3.54487914],\n",
       "        [3.54487914],\n",
       "        [3.54487914],\n",
       "        [3.54487914],\n",
       "        [3.54487914],\n",
       "        [3.54487914],\n",
       "        [3.54487914],\n",
       "        [3.54487914],\n",
       "        [3.54487914],\n",
       "        [3.54487914]])}"
      ]
     },
     "execution_count": 10,
     "metadata": {},
     "output_type": "execute_result"
    }
   ],
   "source": [
    "dataset[0]"
   ]
  },
  {
   "cell_type": "markdown",
   "id": "88f07d0d",
   "metadata": {},
   "source": [
    "### 4. Model training"
   ]
  },
  {
   "cell_type": "code",
   "execution_count": 11,
   "id": "c6fd8c98",
   "metadata": {},
   "outputs": [],
   "source": [
    "from kgcnn.literature.Schnet import make_crystal_model\n",
    "from tensorflow.keras.optimizers import Adam"
   ]
  },
  {
   "cell_type": "code",
   "execution_count": 12,
   "id": "65a00242",
   "metadata": {},
   "outputs": [
    {
     "name": "stderr",
     "output_type": "stream",
     "text": [
      "WARNING:kgcnn.model.utils:Model kwargs: Overwriting dictionary of output_mlp with None\n",
      "INFO:kgcnn.model.utils:Updated model kwargs:\n",
      "INFO:kgcnn.model.utils:{'name': 'Schnet', 'inputs': [{'shape': (None,), 'name': 'node_number', 'dtype': 'float32', 'ragged': True}, {'shape': (None, 3), 'name': 'node_coordinates', 'dtype': 'float32', 'ragged': True}, {'shape': (None, 2), 'name': 'range_indices', 'dtype': 'int64', 'ragged': True}, {'shape': (None, 3), 'name': 'range_image', 'dtype': 'int64', 'ragged': True}, {'shape': (3, 3), 'name': 'graph_lattice', 'dtype': 'float32', 'ragged': False}], 'input_embedding': {'node': {'input_dim': 95, 'output_dim': 64}}, 'make_distance': True, 'expand_distance': True, 'interaction_args': {'units': 128, 'use_bias': True, 'activation': 'kgcnn>shifted_softplus', 'cfconv_pool': 'sum'}, 'node_pooling_args': {'pooling_method': 'mean'}, 'depth': 4, 'gauss_args': {'bins': 25, 'distance': 5, 'offset': 0.0, 'sigma': 0.4}, 'verbose': 10, 'last_mlp': {'use_bias': [True, True, True], 'units': [128, 64, 1], 'activation': ['kgcnn>shifted_softplus', 'kgcnn>shifted_softplus', 'linear']}, 'output_embedding': 'graph', 'output_to_tensor': True, 'use_output_mlp': False, 'output_mlp': None}\n",
      "2023-04-09 20:30:27.163530: I tensorflow/compiler/xla/stream_executor/cuda/cuda_gpu_executor.cc:981] successful NUMA node read from SysFS had negative value (-1), but there must be at least one NUMA node, so returning NUMA node zero\n",
      "2023-04-09 20:30:27.187748: W tensorflow/compiler/xla/stream_executor/platform/default/dso_loader.cc:64] Could not load dynamic library 'libcudnn.so.8'; dlerror: libcudnn.so.8: cannot open shared object file: No such file or directory\n",
      "2023-04-09 20:30:27.187761: W tensorflow/core/common_runtime/gpu/gpu_device.cc:1934] Cannot dlopen some GPU libraries. Please make sure the missing libraries mentioned above are installed properly if you would like to use GPU. Follow the guide at https://www.tensorflow.org/install/gpu for how to download and setup the required libraries for your platform.\n",
      "Skipping registering GPU devices...\n",
      "2023-04-09 20:30:27.187960: I tensorflow/core/platform/cpu_feature_guard.cc:193] This TensorFlow binary is optimized with oneAPI Deep Neural Network Library (oneDNN) to use the following CPU instructions in performance-critical operations:  AVX2 FMA\n",
      "To enable them in other operations, rebuild TensorFlow with the appropriate compiler flags.\n"
     ]
    }
   ],
   "source": [
    "model_config = {\n",
    "    \"name\": \"Schnet\",\n",
    "    \"inputs\": [\n",
    "        {'shape': (None,), 'name': \"node_number\", 'dtype': 'float32', 'ragged': True},\n",
    "        {'shape': (None, 3), 'name': \"node_coordinates\", 'dtype': 'float32', 'ragged': True},\n",
    "        {'shape': (None, 2), 'name': \"range_indices\", 'dtype': 'int64', 'ragged': True},\n",
    "        {'shape': (None, 3), 'name': \"range_image\", 'dtype': 'int64', 'ragged': True},\n",
    "        {'shape': (3, 3), 'name': \"graph_lattice\", 'dtype': 'float32', 'ragged': False}\n",
    "    ],\n",
    "    \"input_embedding\": {\n",
    "        \"node\": {\"input_dim\": 95, \"output_dim\": 64}\n",
    "    },\n",
    "    \"interaction_args\": {\n",
    "        \"units\": 128, \"use_bias\": True, \"activation\": \"kgcnn>shifted_softplus\", \"cfconv_pool\": \"sum\"\n",
    "    },\n",
    "    \"node_pooling_args\": {\"pooling_method\": \"mean\"},\n",
    "    \"depth\": 4,\n",
    "    \"gauss_args\": {\"bins\": 25, \"distance\": 5, \"offset\": 0.0, \"sigma\": 0.4}, \"verbose\": 10,\n",
    "    \"last_mlp\": {\"use_bias\": [True, True, True], \"units\": [128, 64, 1],\n",
    "                 \"activation\": ['kgcnn>shifted_softplus', 'kgcnn>shifted_softplus', 'linear']},\n",
    "    \"output_embedding\": \"graph\",\n",
    "    \"use_output_mlp\": False,\n",
    "    \"output_mlp\": None,  # Last MLP sets output dimension if None.\n",
    "}\n",
    "model = make_crystal_model(**model_config)"
   ]
  },
  {
   "cell_type": "code",
   "execution_count": 13,
   "id": "9630cdf3",
   "metadata": {},
   "outputs": [
    {
     "name": "stderr",
     "output_type": "stream",
     "text": [
      "INFO:kgcnn.data.ExampleCrystal:No invalid graphs for assigned properties found.\n"
     ]
    },
    {
     "data": {
      "text/plain": [
       "array([], dtype=int32)"
      ]
     },
     "execution_count": 13,
     "metadata": {},
     "output_type": "execute_result"
    }
   ],
   "source": [
    "dataset.clean(model_config[\"inputs\"])"
   ]
  },
  {
   "cell_type": "code",
   "execution_count": 13,
   "id": "a36e6f6a",
   "metadata": {},
   "outputs": [
    {
     "data": {
      "text/plain": [
       "(3, 1)"
      ]
     },
     "execution_count": 13,
     "metadata": {},
     "output_type": "execute_result"
    }
   ],
   "source": [
    "y_train = np.expand_dims(dataset.get(\"graph_labels\"), axis=-1)/1000  # Change units by 1000\n",
    "x_train = dataset.tensor(model_config[\"inputs\"])\n",
    "y_train.shape"
   ]
  },
  {
   "cell_type": "code",
   "execution_count": 14,
   "id": "5c61ef2c",
   "metadata": {},
   "outputs": [
    {
     "name": "stdout",
     "output_type": "stream",
     "text": [
      "Epoch 1/20\n",
      "1/1 - 2s - loss: 0.6775 - mean_absolute_error: 0.6775 - 2s/epoch - 2s/step\n",
      "Epoch 2/20\n",
      "1/1 - 0s - loss: 0.6584 - mean_absolute_error: 0.6584 - 4ms/epoch - 4ms/step\n",
      "Epoch 3/20\n",
      "1/1 - 0s - loss: 0.6406 - mean_absolute_error: 0.6406 - 6ms/epoch - 6ms/step\n",
      "Epoch 4/20\n",
      "1/1 - 0s - loss: 0.6236 - mean_absolute_error: 0.6236 - 4ms/epoch - 4ms/step\n",
      "Epoch 5/20\n",
      "1/1 - 0s - loss: 0.6066 - mean_absolute_error: 0.6066 - 3ms/epoch - 3ms/step\n",
      "Epoch 6/20\n",
      "1/1 - 0s - loss: 0.5889 - mean_absolute_error: 0.5889 - 4ms/epoch - 4ms/step\n",
      "Epoch 7/20\n",
      "1/1 - 0s - loss: 0.5699 - mean_absolute_error: 0.5699 - 4ms/epoch - 4ms/step\n",
      "Epoch 8/20\n",
      "1/1 - 0s - loss: 0.5488 - mean_absolute_error: 0.5488 - 5ms/epoch - 5ms/step\n",
      "Epoch 9/20\n",
      "1/1 - 0s - loss: 0.5249 - mean_absolute_error: 0.5249 - 3ms/epoch - 3ms/step\n",
      "Epoch 10/20\n",
      "1/1 - 0s - loss: 0.4972 - mean_absolute_error: 0.4972 - 4ms/epoch - 4ms/step\n",
      "Epoch 11/20\n",
      "1/1 - 0s - loss: 0.4649 - mean_absolute_error: 0.4649 - 5ms/epoch - 5ms/step\n",
      "Epoch 12/20\n",
      "1/1 - 0s - loss: 0.4269 - mean_absolute_error: 0.4269 - 5ms/epoch - 5ms/step\n",
      "Epoch 13/20\n",
      "1/1 - 0s - loss: 0.3820 - mean_absolute_error: 0.3820 - 4ms/epoch - 4ms/step\n",
      "Epoch 14/20\n",
      "1/1 - 0s - loss: 0.3287 - mean_absolute_error: 0.3287 - 4ms/epoch - 4ms/step\n",
      "Epoch 15/20\n",
      "1/1 - 0s - loss: 0.2653 - mean_absolute_error: 0.2653 - 3ms/epoch - 3ms/step\n",
      "Epoch 16/20\n",
      "1/1 - 0s - loss: 0.1970 - mean_absolute_error: 0.1970 - 3ms/epoch - 3ms/step\n",
      "Epoch 17/20\n",
      "1/1 - 0s - loss: 0.1961 - mean_absolute_error: 0.1961 - 5ms/epoch - 5ms/step\n",
      "Epoch 18/20\n",
      "1/1 - 0s - loss: 0.1896 - mean_absolute_error: 0.1896 - 5ms/epoch - 5ms/step\n",
      "Epoch 19/20\n",
      "1/1 - 0s - loss: 0.1807 - mean_absolute_error: 0.1807 - 6ms/epoch - 6ms/step\n",
      "Epoch 20/20\n",
      "1/1 - 0s - loss: 0.1651 - mean_absolute_error: 0.1651 - 5ms/epoch - 5ms/step\n"
     ]
    },
    {
     "data": {
      "text/plain": [
       "<keras.callbacks.History at 0x7f7410770400>"
      ]
     },
     "execution_count": 14,
     "metadata": {},
     "output_type": "execute_result"
    }
   ],
   "source": [
    "model.compile(\n",
    "    loss=\"mean_absolute_error\",\n",
    "    optimizer=Adam(learning_rate=1e-04),\n",
    "    metrics=[\"mean_absolute_error\"],\n",
    ")\n",
    "\n",
    "model.fit(\n",
    "    x_train, y_train,\n",
    "    shuffle=True,\n",
    "    batch_size=3,\n",
    "    epochs=20,\n",
    "    verbose=2,\n",
    ")"
   ]
  },
  {
   "cell_type": "code",
   "execution_count": 16,
   "id": "a58d579a",
   "metadata": {},
   "outputs": [
    {
     "ename": "ValueError",
     "evalue": "Expected 2D array, got 1D array instead:\narray=[<tf.RaggedTensor [[56, 52], [5, 33], [56, 31, 14, 1]]>].\nReshape your data either using array.reshape(-1, 1) if your data has a single feature or array.reshape(1, -1) if it contains a single sample.",
     "output_type": "error",
     "traceback": [
      "\u001b[0;31m---------------------------------------------------------------------------\u001b[0m",
      "\u001b[0;31mValueError\u001b[0m                                Traceback (most recent call last)",
      "Cell \u001b[0;32mIn[16], line 9\u001b[0m\n\u001b[1;32m      3\u001b[0m \u001b[38;5;66;03m# Xs, ys, Xt, yt = make_regression_da()\u001b[39;00m\n\u001b[1;32m      4\u001b[0m \u001b[38;5;66;03m# src_model = RegularTransferNN(loss=\"mse\", lambdas=0., random_state=0)\u001b[39;00m\n\u001b[1;32m      5\u001b[0m \u001b[38;5;66;03m# src_model.fit(Xs, ys, epochs=100, verbose=0)\u001b[39;00m\n\u001b[1;32m      6\u001b[0m \u001b[38;5;66;03m# print(src_model.score(Xt, yt))\u001b[39;00m\n\u001b[1;32m      8\u001b[0m model \u001b[38;5;241m=\u001b[39m RegularTransferNN(model, loss\u001b[38;5;241m=\u001b[39m\u001b[38;5;124m\"\u001b[39m\u001b[38;5;124mmse\u001b[39m\u001b[38;5;124m\"\u001b[39m, lambdas\u001b[38;5;241m=\u001b[39m\u001b[38;5;241m1.\u001b[39m, random_state\u001b[38;5;241m=\u001b[39m\u001b[38;5;241m0\u001b[39m)\n\u001b[0;32m----> 9\u001b[0m \u001b[43mmodel\u001b[49m\u001b[38;5;241;43m.\u001b[39;49m\u001b[43mfit\u001b[49m\u001b[43m(\u001b[49m\u001b[43mx_train\u001b[49m\u001b[43m[\u001b[49m\u001b[43m:\u001b[49m\u001b[38;5;241;43m1\u001b[39;49m\u001b[43m]\u001b[49m\u001b[43m,\u001b[49m\u001b[43m \u001b[49m\u001b[43my_train\u001b[49m\u001b[43m[\u001b[49m\u001b[43m:\u001b[49m\u001b[38;5;241;43m1\u001b[39;49m\u001b[43m]\u001b[49m\u001b[43m,\u001b[49m\u001b[43m \u001b[49m\u001b[43mepochs\u001b[49m\u001b[38;5;241;43m=\u001b[39;49m\u001b[38;5;241;43m10\u001b[39;49m\u001b[43m,\u001b[49m\u001b[43m \u001b[49m\u001b[43mverbose\u001b[49m\u001b[38;5;241;43m=\u001b[39;49m\u001b[38;5;241;43m0\u001b[39;49m\u001b[43m)\u001b[49m\n\u001b[1;32m     10\u001b[0m model\u001b[38;5;241m.\u001b[39mscore(x_train, y_train)\n",
      "File \u001b[0;32m~/anaconda3/envs/kgcnn/lib/python3.9/site-packages/adapt/parameter_based/_regular.py:399\u001b[0m, in \u001b[0;36mRegularTransferNN.fit\u001b[0;34m(self, Xt, yt, **fit_params)\u001b[0m\n\u001b[1;32m    397\u001b[0m Xs \u001b[38;5;241m=\u001b[39m Xt\n\u001b[1;32m    398\u001b[0m ys \u001b[38;5;241m=\u001b[39m yt\n\u001b[0;32m--> 399\u001b[0m \u001b[38;5;28;01mreturn\u001b[39;00m \u001b[38;5;28;43msuper\u001b[39;49m\u001b[43m(\u001b[49m\u001b[43m)\u001b[49m\u001b[38;5;241;43m.\u001b[39;49m\u001b[43mfit\u001b[49m\u001b[43m(\u001b[49m\u001b[43mXs\u001b[49m\u001b[43m,\u001b[49m\u001b[43m \u001b[49m\u001b[43mys\u001b[49m\u001b[43m,\u001b[49m\u001b[43m \u001b[49m\u001b[43mXt\u001b[49m\u001b[38;5;241;43m=\u001b[39;49m\u001b[43mXt\u001b[49m\u001b[43m,\u001b[49m\u001b[43m \u001b[49m\u001b[43myt\u001b[49m\u001b[38;5;241;43m=\u001b[39;49m\u001b[43myt\u001b[49m\u001b[43m,\u001b[49m\u001b[43m \u001b[49m\u001b[38;5;241;43m*\u001b[39;49m\u001b[38;5;241;43m*\u001b[39;49m\u001b[43mfit_params\u001b[49m\u001b[43m)\u001b[49m\n",
      "File \u001b[0;32m~/anaconda3/envs/kgcnn/lib/python3.9/site-packages/adapt/base.py:979\u001b[0m, in \u001b[0;36mBaseAdaptDeep.fit\u001b[0;34m(self, X, y, Xt, yt, domains, **fit_params)\u001b[0m\n\u001b[1;32m    975\u001b[0m \u001b[38;5;66;03m# 2. Prepare datasets\u001b[39;00m\n\u001b[1;32m    976\u001b[0m \n\u001b[1;32m    977\u001b[0m \u001b[38;5;66;03m### 2.1 Source\u001b[39;00m\n\u001b[1;32m    978\u001b[0m \u001b[38;5;28;01mif\u001b[39;00m \u001b[38;5;129;01mnot\u001b[39;00m \u001b[38;5;28misinstance\u001b[39m(X, tf\u001b[38;5;241m.\u001b[39mdata\u001b[38;5;241m.\u001b[39mDataset):\n\u001b[0;32m--> 979\u001b[0m     \u001b[43mcheck_arrays\u001b[49m\u001b[43m(\u001b[49m\u001b[43mX\u001b[49m\u001b[43m,\u001b[49m\u001b[43m \u001b[49m\u001b[43my\u001b[49m\u001b[43m)\u001b[49m\n\u001b[1;32m    980\u001b[0m     \u001b[38;5;28;01mif\u001b[39;00m \u001b[38;5;28mlen\u001b[39m(y\u001b[38;5;241m.\u001b[39mshape) \u001b[38;5;241m<\u001b[39m\u001b[38;5;241m=\u001b[39m \u001b[38;5;241m1\u001b[39m:\n\u001b[1;32m    981\u001b[0m         y \u001b[38;5;241m=\u001b[39m y\u001b[38;5;241m.\u001b[39mreshape(\u001b[38;5;241m-\u001b[39m\u001b[38;5;241m1\u001b[39m, \u001b[38;5;241m1\u001b[39m)\n",
      "File \u001b[0;32m~/anaconda3/envs/kgcnn/lib/python3.9/site-packages/adapt/utils.py:134\u001b[0m, in \u001b[0;36mcheck_arrays\u001b[0;34m(X, y, **kwargs)\u001b[0m\n\u001b[1;32m    116\u001b[0m \u001b[38;5;28;01mdef\u001b[39;00m \u001b[38;5;21mcheck_arrays\u001b[39m(X, y, \u001b[38;5;241m*\u001b[39m\u001b[38;5;241m*\u001b[39mkwargs):\n\u001b[1;32m    117\u001b[0m     \u001b[38;5;124;03m\"\"\"\u001b[39;00m\n\u001b[1;32m    118\u001b[0m \u001b[38;5;124;03m    Check arrays and reshape 1D array in 2D array\u001b[39;00m\n\u001b[1;32m    119\u001b[0m \u001b[38;5;124;03m    of shape (-1, 1). Check if the length of X\u001b[39;00m\n\u001b[0;32m   (...)\u001b[0m\n\u001b[1;32m    132\u001b[0m \u001b[38;5;124;03m    X, y\u001b[39;00m\n\u001b[1;32m    133\u001b[0m \u001b[38;5;124;03m    \"\"\"\u001b[39;00m    \n\u001b[0;32m--> 134\u001b[0m     X \u001b[38;5;241m=\u001b[39m \u001b[43mcheck_array\u001b[49m\u001b[43m(\u001b[49m\u001b[43mX\u001b[49m\u001b[43m,\u001b[49m\u001b[43m \u001b[49m\u001b[43mensure_2d\u001b[49m\u001b[38;5;241;43m=\u001b[39;49m\u001b[38;5;28;43;01mTrue\u001b[39;49;00m\u001b[43m,\u001b[49m\u001b[43m \u001b[49m\u001b[43mallow_nd\u001b[49m\u001b[38;5;241;43m=\u001b[39;49m\u001b[38;5;28;43;01mTrue\u001b[39;49;00m\u001b[43m,\u001b[49m\u001b[43m \u001b[49m\u001b[38;5;241;43m*\u001b[39;49m\u001b[38;5;241;43m*\u001b[39;49m\u001b[43mkwargs\u001b[49m\u001b[43m)\u001b[49m\n\u001b[1;32m    135\u001b[0m     y \u001b[38;5;241m=\u001b[39m check_array(y, ensure_2d\u001b[38;5;241m=\u001b[39m\u001b[38;5;28;01mFalse\u001b[39;00m, allow_nd\u001b[38;5;241m=\u001b[39m\u001b[38;5;28;01mTrue\u001b[39;00m, dtype\u001b[38;5;241m=\u001b[39m\u001b[38;5;28;01mNone\u001b[39;00m, \u001b[38;5;241m*\u001b[39m\u001b[38;5;241m*\u001b[39mkwargs)\n\u001b[1;32m    136\u001b[0m     \u001b[38;5;28;01mif\u001b[39;00m X\u001b[38;5;241m.\u001b[39mshape[\u001b[38;5;241m0\u001b[39m] \u001b[38;5;241m!=\u001b[39m y\u001b[38;5;241m.\u001b[39mshape[\u001b[38;5;241m0\u001b[39m]:\n",
      "File \u001b[0;32m~/anaconda3/envs/kgcnn/lib/python3.9/site-packages/sklearn/utils/validation.py:900\u001b[0m, in \u001b[0;36mcheck_array\u001b[0;34m(array, accept_sparse, accept_large_sparse, dtype, order, copy, force_all_finite, ensure_2d, allow_nd, ensure_min_samples, ensure_min_features, estimator, input_name)\u001b[0m\n\u001b[1;32m    898\u001b[0m     \u001b[38;5;66;03m# If input is 1D raise error\u001b[39;00m\n\u001b[1;32m    899\u001b[0m     \u001b[38;5;28;01mif\u001b[39;00m array\u001b[38;5;241m.\u001b[39mndim \u001b[38;5;241m==\u001b[39m \u001b[38;5;241m1\u001b[39m:\n\u001b[0;32m--> 900\u001b[0m         \u001b[38;5;28;01mraise\u001b[39;00m \u001b[38;5;167;01mValueError\u001b[39;00m(\n\u001b[1;32m    901\u001b[0m             \u001b[38;5;124m\"\u001b[39m\u001b[38;5;124mExpected 2D array, got 1D array instead:\u001b[39m\u001b[38;5;130;01m\\n\u001b[39;00m\u001b[38;5;124marray=\u001b[39m\u001b[38;5;132;01m{}\u001b[39;00m\u001b[38;5;124m.\u001b[39m\u001b[38;5;130;01m\\n\u001b[39;00m\u001b[38;5;124m\"\u001b[39m\n\u001b[1;32m    902\u001b[0m             \u001b[38;5;124m\"\u001b[39m\u001b[38;5;124mReshape your data either using array.reshape(-1, 1) if \u001b[39m\u001b[38;5;124m\"\u001b[39m\n\u001b[1;32m    903\u001b[0m             \u001b[38;5;124m\"\u001b[39m\u001b[38;5;124myour data has a single feature or array.reshape(1, -1) \u001b[39m\u001b[38;5;124m\"\u001b[39m\n\u001b[1;32m    904\u001b[0m             \u001b[38;5;124m\"\u001b[39m\u001b[38;5;124mif it contains a single sample.\u001b[39m\u001b[38;5;124m\"\u001b[39m\u001b[38;5;241m.\u001b[39mformat(array)\n\u001b[1;32m    905\u001b[0m         )\n\u001b[1;32m    907\u001b[0m \u001b[38;5;28;01mif\u001b[39;00m dtype_numeric \u001b[38;5;129;01mand\u001b[39;00m array\u001b[38;5;241m.\u001b[39mdtype\u001b[38;5;241m.\u001b[39mkind \u001b[38;5;129;01min\u001b[39;00m \u001b[38;5;124m\"\u001b[39m\u001b[38;5;124mUSV\u001b[39m\u001b[38;5;124m\"\u001b[39m:\n\u001b[1;32m    908\u001b[0m     \u001b[38;5;28;01mraise\u001b[39;00m \u001b[38;5;167;01mValueError\u001b[39;00m(\n\u001b[1;32m    909\u001b[0m         \u001b[38;5;124m\"\u001b[39m\u001b[38;5;124mdtype=\u001b[39m\u001b[38;5;124m'\u001b[39m\u001b[38;5;124mnumeric\u001b[39m\u001b[38;5;124m'\u001b[39m\u001b[38;5;124m is not compatible with arrays of bytes/strings.\u001b[39m\u001b[38;5;124m\"\u001b[39m\n\u001b[1;32m    910\u001b[0m         \u001b[38;5;124m\"\u001b[39m\u001b[38;5;124mConvert your data to numeric values explicitly instead.\u001b[39m\u001b[38;5;124m\"\u001b[39m\n\u001b[1;32m    911\u001b[0m     )\n",
      "\u001b[0;31mValueError\u001b[0m: Expected 2D array, got 1D array instead:\narray=[<tf.RaggedTensor [[56, 52], [5, 33], [56, 31, 14, 1]]>].\nReshape your data either using array.reshape(-1, 1) if your data has a single feature or array.reshape(1, -1) if it contains a single sample."
     ]
    }
   ],
   "source": [
    "from adapt.utils import make_regression_da\n",
    "from adapt.parameter_based import RegularTransferNN\n",
    "# Xs, ys, Xt, yt = make_regression_da()\n",
    "# src_model = RegularTransferNN(loss=\"mse\", lambdas=0., random_state=0)\n",
    "# src_model.fit(Xs, ys, epochs=100, verbose=0)\n",
    "# print(src_model.score(Xt, yt))\n",
    "\n",
    "model = RegularTransferNN(model, loss=\"mse\", lambdas=1., random_state=0)\n",
    "model.fit(x_train[:1], y_train[:1], epochs=10, verbose=0)\n",
    "model.score(x_train, y_train)\n"
   ]
  },
  {
   "cell_type": "code",
   "execution_count": 19,
   "id": "dd661db6",
   "metadata": {},
   "outputs": [
    {
     "name": "stdout",
     "output_type": "stream",
     "text": [
      "[<tf.RaggedTensor [[56, 52], [5, 33], [56, 31, 14, 1]]>, <tf.RaggedTensor [[[0.0, 0.0, 0.0],\n",
      "  [1.3124568098987766e-09, 6.13991077928134, 2.273244037453992e-09]],\n",
      " [[7.583195182903069e-09, 6.260393586116513, -7.726170814237321e-10],\n",
      "  [0.0, 0.0, 0.0]]                                                   ,\n",
      " [[0.0, 0.0, 0.0],\n",
      "  [-2.1507499996604587, 1.2417359992795773, -2.4122163099999994],\n",
      "  [-2.1504632336728746, -1.2417359992795785, -2.86967835],\n",
      "  [-2.1507499996604587, 1.2417359992795773, -0.6540442299999999]]]>, <tf.RaggedTensor [[[0, 1],\n",
      "  [0, 1],\n",
      "  [0, 1],\n",
      "  [0, 1],\n",
      "  [0, 1],\n",
      "  [0, 1],\n",
      "  [1, 0],\n",
      "  [1, 0],\n",
      "  [1, 0],\n",
      "  [1, 0],\n",
      "  [1, 0],\n",
      "  [1, 0]], [[0, 1],\n",
      "            [0, 1],\n",
      "            [0, 1],\n",
      "            [0, 1],\n",
      "            [0, 0],\n",
      "            [0, 0],\n",
      "            [0, 0],\n",
      "            [0, 0],\n",
      "            [0, 0],\n",
      "            [0, 0],\n",
      "            [0, 0],\n",
      "            [0, 0],\n",
      "            [0, 0],\n",
      "            [0, 0],\n",
      "            [0, 0],\n",
      "            [0, 0],\n",
      "            [0, 1],\n",
      "            [0, 1],\n",
      "            [0, 1],\n",
      "            [0, 1],\n",
      "            [1, 0],\n",
      "            [1, 0],\n",
      "            [1, 0],\n",
      "            [1, 0],\n",
      "            [1, 1],\n",
      "            [1, 1],\n",
      "            [1, 1],\n",
      "            [1, 1],\n",
      "            [1, 1],\n",
      "            [1, 1],\n",
      "            [1, 1],\n",
      "            [1, 1],\n",
      "            [1, 1],\n",
      "            [1, 1],\n",
      "            [1, 1],\n",
      "            [1, 1],\n",
      "            [1, 0],\n",
      "            [1, 0],\n",
      "            [1, 0],\n",
      "            [1, 0]], [[0, 3],\n",
      "                      [0, 3],\n",
      "                      [0, 3],\n",
      "                      [0, 2],\n",
      "                      [0, 2],\n",
      "                      [0, 2],\n",
      "                      [0, 1],\n",
      "                      [0, 1],\n",
      "                      [0, 1],\n",
      "                      [0, 1],\n",
      "                      [0, 1],\n",
      "                      [0, 1],\n",
      "                      [0, 2],\n",
      "                      [0, 2],\n",
      "                      [0, 2],\n",
      "                      [0, 0],\n",
      "                      [0, 0],\n",
      "                      [0, 0],\n",
      "                      [0, 0],\n",
      "                      [0, 0],\n",
      "                      [1, 3],\n",
      "                      [1, 2],\n",
      "                      [1, 2],\n",
      "                      [1, 2],\n",
      "                      [1, 0],\n",
      "                      [1, 0],\n",
      "                      [1, 0],\n",
      "                      [1, 3],\n",
      "                      [1, 0],\n",
      "                      [1, 0],\n",
      "                      [1, 0],\n",
      "                      [1, 1],\n",
      "                      [1, 1],\n",
      "                      [1, 1],\n",
      "                      [1, 1],\n",
      "                      [1, 1],\n",
      "                      [1, 1],\n",
      "                      [1, 3],\n",
      "                      [1, 3],\n",
      "                      [1, 3],\n",
      "                      [2, 1],\n",
      "                      [2, 1],\n",
      "                      [2, 1],\n",
      "                      [2, 3],\n",
      "                      [2, 3],\n",
      "                      [2, 3],\n",
      "                      [2, 0],\n",
      "                      [2, 0],\n",
      "                      [2, 0],\n",
      "                      [2, 0],\n",
      "                      [2, 0],\n",
      "                      [2, 0],\n",
      "                      [2, 3],\n",
      "                      [2, 3],\n",
      "                      [2, 3],\n",
      "                      [2, 2],\n",
      "                      [2, 2],\n",
      "                      [2, 2],\n",
      "                      [2, 2],\n",
      "                      [2, 2],\n",
      "                      [3, 1],\n",
      "                      [3, 0],\n",
      "                      [3, 0],\n",
      "                      [3, 0],\n",
      "                      [3, 2],\n",
      "                      [3, 2],\n",
      "                      [3, 2],\n",
      "                      [3, 1],\n",
      "                      [3, 2],\n",
      "                      [3, 2],\n",
      "                      [3, 2],\n",
      "                      [3, 3],\n",
      "                      [3, 3],\n",
      "                      [3, 3],\n",
      "                      [3, 3],\n",
      "                      [3, 3],\n",
      "                      [3, 3],\n",
      "                      [3, 1],\n",
      "                      [3, 1],\n",
      "                      [3, 1]]]>, <tf.RaggedTensor [[[-1, 0, 0],\n",
      "  [0, -1, -1],\n",
      "  [0, 0, -1],\n",
      "  [-1, 0, -1],\n",
      "  [-1, -1, 0],\n",
      "  [0, -1, 0],\n",
      "  [1, 0, 0],\n",
      "  [0, 1, 1],\n",
      "  [0, 0, 1],\n",
      "  [1, 0, 1],\n",
      "  [1, 1, 0],\n",
      "  [0, 1, 0]]  , [[1, 1, 1],\n",
      "                 [1, 1, 0],\n",
      "                 [0, 1, 1],\n",
      "                 [1, 0, 1],\n",
      "                 [0, 0, -1],\n",
      "                 [0, 0, 1],\n",
      "                 [1, 0, 0],\n",
      "                 [-1, 1, 0],\n",
      "                 [-1, 0, 0],\n",
      "                 [1, -1, 0],\n",
      "                 [1, 0, -1],\n",
      "                 [-1, 0, 1],\n",
      "                 [0, 1, 0],\n",
      "                 [0, 1, -1],\n",
      "                 [0, -1, 0],\n",
      "                 [0, -1, 1],\n",
      "                 [0, 1, 2],\n",
      "                 [0, 1, 0],\n",
      "                 [1, 0, 2],\n",
      "                 [1, 0, 0],\n",
      "                 [-1, -1, -1],\n",
      "                 [-1, -1, 0],\n",
      "                 [0, -1, -1],\n",
      "                 [-1, 0, -1],\n",
      "                 [0, 0, 1],\n",
      "                 [0, 0, -1],\n",
      "                 [1, -1, 0],\n",
      "                 [1, 0, 0],\n",
      "                 [-1, 1, 0],\n",
      "                 [-1, 0, 0],\n",
      "                 [-1, 0, 1],\n",
      "                 [1, 0, -1],\n",
      "                 [0, 1, -1],\n",
      "                 [0, -1, 1],\n",
      "                 [0, -1, 0],\n",
      "                 [0, 1, 0],\n",
      "                 [0, -1, -2],\n",
      "                 [0, -1, 0],\n",
      "                 [-1, 0, -2],\n",
      "                 [-1, 0, 0]]  , [[0, -1, 0],\n",
      "                                 [0, 0, 0],\n",
      "                                 [-1, -1, 0],\n",
      "                                 [0, 0, -1],\n",
      "                                 [-1, 0, -1],\n",
      "                                 [-1, -1, -1],\n",
      "                                 [0, -1, 0],\n",
      "                                 [0, 0, 0],\n",
      "                                 [-1, -1, 0],\n",
      "                                 [0, -1, -1],\n",
      "                                 [0, 0, -1],\n",
      "                                 [-1, -1, -1],\n",
      "                                 [0, 0, 0],\n",
      "                                 [-1, 0, 0],\n",
      "                                 [-1, -1, 0],\n",
      "                                 [0, 1, 0],\n",
      "                                 [0, -1, 0],\n",
      "                                 [-1, 0, 0],\n",
      "                                 [1, 0, 0],\n",
      "                                 [1, 1, 0],\n",
      "                                 [0, 0, 0],\n",
      "                                 [0, 1, 0],\n",
      "                                 [0, 0, 0],\n",
      "                                 [-1, 0, 0],\n",
      "                                 [0, 1, 0],\n",
      "                                 [0, 0, 0],\n",
      "                                 [1, 1, 0],\n",
      "                                 [0, 0, 1],\n",
      "                                 [0, 1, 1],\n",
      "                                 [0, 0, 1],\n",
      "                                 [1, 1, 1],\n",
      "                                 [0, 1, 0],\n",
      "                                 [0, -1, 0],\n",
      "                                 [-1, 0, 0],\n",
      "                                 [1, 0, 0],\n",
      "                                 [-1, -1, 0],\n",
      "                                 [1, 1, 0],\n",
      "                                 [0, 1, 0],\n",
      "                                 [0, -1, 0],\n",
      "                                 [1, 0, 0],\n",
      "                                 [0, -1, 0],\n",
      "                                 [0, 0, 0],\n",
      "                                 [1, 0, 0],\n",
      "                                 [0, -1, 0],\n",
      "                                 [0, 0, 0],\n",
      "                                 [1, 0, 0],\n",
      "                                 [0, 0, 1],\n",
      "                                 [1, 0, 1],\n",
      "                                 [1, 1, 1],\n",
      "                                 [0, 0, 0],\n",
      "                                 [1, 0, 0],\n",
      "                                 [1, 1, 0],\n",
      "                                 [0, -1, 1],\n",
      "                                 [0, 0, 1],\n",
      "                                 [1, 0, 1],\n",
      "                                 [0, 1, 0],\n",
      "                                 [0, -1, 0],\n",
      "                                 [-1, 0, 0],\n",
      "                                 [1, 0, 0],\n",
      "                                 [1, 1, 0],\n",
      "                                 [0, 0, 0],\n",
      "                                 [0, 1, 0],\n",
      "                                 [0, 0, 0],\n",
      "                                 [1, 1, 0],\n",
      "                                 [0, 1, 0],\n",
      "                                 [0, 0, 0],\n",
      "                                 [-1, 0, 0],\n",
      "                                 [0, 0, -1],\n",
      "                                 [0, 1, -1],\n",
      "                                 [0, 0, -1],\n",
      "                                 [-1, 0, -1],\n",
      "                                 [0, 1, 0],\n",
      "                                 [0, -1, 0],\n",
      "                                 [-1, 0, 0],\n",
      "                                 [1, 0, 0],\n",
      "                                 [1, 1, 0],\n",
      "                                 [-1, -1, 0],\n",
      "                                 [0, 1, 0],\n",
      "                                 [0, -1, 0],\n",
      "                                 [-1, 0, 0]]  ]>, <tf.Tensor: shape=(3, 3, 3), dtype=float64, numpy=\n",
      "array([[[ 1.44719085e+00,  4.09327385e+00,  2.50660808e+00],\n",
      "        [ 1.44719085e+00,  4.09327385e+00, -2.50660808e+00],\n",
      "        [-2.89438170e+00,  4.09327385e+00,  1.51549528e-09]],\n",
      "\n",
      "       [[ 9.83725950e-01,  2.78239715e+00,  1.70386332e+00],\n",
      "        [ 9.83725950e-01,  2.78239715e+00, -1.70386332e+00],\n",
      "        [-1.96745189e+00,  2.78239715e+00, -0.00000000e+00]],\n",
      "\n",
      "       [[-2.15075000e+00, -3.72520800e+00, -5.26781806e-16],\n",
      "        [-2.15075000e+00,  3.72520800e+00,  2.63390896e-16],\n",
      "        [ 0.00000000e+00,  0.00000000e+00, -5.27030000e+00]]])>]\n",
      "[<tf.RaggedTensor [[56, 52], [5, 33], [56, 31, 14, 1]]>, <tf.RaggedTensor [[[0.0, 0.0, 0.0],\n",
      "  [1.3124568098987766e-09, 6.13991077928134, 2.273244037453992e-09]],\n",
      " [[7.583195182903069e-09, 6.260393586116513, -7.726170814237321e-10],\n",
      "  [0.0, 0.0, 0.0]]                                                   ,\n",
      " [[0.0, 0.0, 0.0],\n",
      "  [-2.1507499996604587, 1.2417359992795773, -2.4122163099999994],\n",
      "  [-2.1504632336728746, -1.2417359992795785, -2.86967835],\n",
      "  [-2.1507499996604587, 1.2417359992795773, -0.6540442299999999]]]>]\n"
     ]
    }
   ],
   "source": [
    "print(x_train)\n",
    "print(x_train[:2])"
   ]
  },
  {
   "cell_type": "code",
   "execution_count": 3,
   "id": "9e2e7676",
   "metadata": {},
   "outputs": [
    {
     "name": "stdout",
     "output_type": "stream",
     "text": [
      "[[0.35514623]\n",
      " [0.18180734]\n",
      " [0.37953451]\n",
      " [0.47601845]\n",
      " [0.17277299]\n",
      " [0.31193602]\n",
      " [0.31868776]\n",
      " [0.31027602]\n",
      " [0.16186132]\n",
      " [0.47200618]\n",
      " [0.25709103]\n",
      " [0.42680626]\n",
      " [0.36435397]\n",
      " [0.19346602]\n",
      " [0.41294502]\n",
      " [0.23557517]\n",
      " [0.44155315]\n",
      " [0.31411038]\n",
      " [0.44182185]\n",
      " [0.36140086]\n",
      " [0.37530962]\n",
      " [0.2801283 ]\n",
      " [0.47342356]\n",
      " [0.34076836]\n",
      " [0.24719999]\n",
      " [0.32478777]\n",
      " [0.07519861]\n",
      " [0.19522482]\n",
      " [0.34764708]\n",
      " [0.19033793]\n",
      " [0.32972779]\n",
      " [0.24928853]\n",
      " [0.12462375]\n",
      " [0.19382535]\n",
      " [0.30930393]\n",
      " [0.31819081]\n",
      " [0.31115729]\n",
      " [0.34468333]\n",
      " [0.34421681]\n",
      " [0.2504148 ]\n",
      " [0.44811736]\n",
      " [0.22327259]\n",
      " [0.25230478]\n",
      " [0.44615226]\n",
      " [0.40971302]\n",
      " [0.36622814]\n",
      " [0.10964195]\n",
      " [0.45786631]\n",
      " [0.37062856]\n",
      " [0.49160011]\n",
      " [0.1305635 ]\n",
      " [0.43603722]\n",
      " [0.13610812]\n",
      " [0.32868392]\n",
      " [0.11967019]\n",
      " [0.42748615]\n",
      " [0.41019119]\n",
      " [0.30893662]\n",
      " [0.24011367]\n",
      " [0.09643996]\n",
      " [0.3634824 ]\n",
      " [0.25981871]\n",
      " [0.37395003]\n",
      " [0.43529605]\n",
      " [0.48168562]\n",
      " [0.43079946]\n",
      " [0.07201962]\n",
      " [0.2200491 ]\n",
      " [0.37732278]\n",
      " [0.13999168]\n",
      " [0.28850697]\n",
      " [0.09013689]\n",
      " [0.152049  ]\n",
      " [0.07491323]\n",
      " [0.40440148]\n",
      " [0.16221966]\n",
      " [0.21383216]\n",
      " [0.46152117]\n",
      " [0.36645164]\n",
      " [0.08057368]\n",
      " [0.13704374]\n",
      " [0.33119972]\n",
      " [0.31239136]\n",
      " [0.16815681]\n",
      " [0.46412788]\n",
      " [0.32800656]\n",
      " [0.29471108]\n",
      " [0.31778158]\n",
      " [0.37737866]\n",
      " [0.19963266]\n",
      " [0.23630427]\n",
      " [0.15623456]\n",
      " [0.14618182]\n",
      " [0.4684457 ]\n",
      " [0.38138635]\n",
      " [0.27550989]\n",
      " [0.16370306]\n",
      " [0.17515468]\n",
      " [0.09170583]\n",
      " [0.25168918]]\n"
     ]
    }
   ],
   "source": [
    "print(Xt)"
   ]
  },
  {
   "cell_type": "code",
   "execution_count": null,
   "id": "fa0d047c",
   "metadata": {},
   "outputs": [],
   "source": []
  }
 ],
 "metadata": {
  "kernelspec": {
   "display_name": "Python 3 (ipykernel)",
   "language": "python",
   "name": "python3"
  },
  "language_info": {
   "codemirror_mode": {
    "name": "ipython",
    "version": 3
   },
   "file_extension": ".py",
   "mimetype": "text/x-python",
   "name": "python",
   "nbconvert_exporter": "python",
   "pygments_lexer": "ipython3",
   "version": "3.9.15"
  }
 },
 "nbformat": 4,
 "nbformat_minor": 5
}
